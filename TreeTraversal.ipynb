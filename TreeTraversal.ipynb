{
 "cells": [
  {
   "cell_type": "markdown",
   "id": "681ee194",
   "metadata": {},
   "source": [
    "# BFS (Breadth First Search)"
   ]
  },
  {
   "cell_type": "code",
   "execution_count": 23,
   "id": "a09a7c1a",
   "metadata": {},
   "outputs": [],
   "source": [
    "# creating binary tree\n",
    "\n",
    "class Node:\n",
    "    def __init__(self,value):\n",
    "        self.value = value\n",
    "        self.left = None\n",
    "        self.right = None\n",
    "\n",
    "class BST:\n",
    "    def __init__(self):\n",
    "        self.root = None\n",
    "    def insert(self,value):\n",
    "        new_node = Node(value)\n",
    "        if self.root == None:\n",
    "            self.root = new_node\n",
    "            return True\n",
    "        temp = self.root\n",
    "        while(1):\n",
    "            if new_node.value == temp.value:\n",
    "                return False\n",
    "            if new_node.value< temp.value:\n",
    "                if temp.left == None:\n",
    "                    temp.left = new_node\n",
    "                    return True\n",
    "                temp = temp.left\n",
    "                \n",
    "            if new_node.value> temp.value:\n",
    "                if temp.right == None:\n",
    "                    temp.right = new_node\n",
    "                    return True\n",
    "                temp = temp.right\n",
    "    def contains(self,value):\n",
    "        temp = self.root\n",
    "        while temp != None:\n",
    "            if value <temp.value:\n",
    "                temp = temp.left\n",
    "            elif value > temp.value:\n",
    "                temp = temp.right\n",
    "            else:\n",
    "                return True\n",
    "        return False\n",
    "    def BFS(self):\n",
    "        queue = []\n",
    "        results = []\n",
    "        current_node = self.root\n",
    "        queue.append(current_node)\n",
    "        while len(queue)>0:\n",
    "            current_node = queue.pop(0)\n",
    "            if current_node.left != None:\n",
    "                queue.append(current_node.left)\n",
    "            if current_node.right != None:\n",
    "                queue.append(current_node.right)\n",
    "            results.append(current_node.value)\n",
    "        return results\n",
    "    def pre_order(self):\n",
    "        result = []\n",
    "        \n",
    "        def traverse(current_node):\n",
    "            result.append(current_node.value)\n",
    "            \n",
    "            if current_node.left != None:\n",
    "                traverse(current_node.left)\n",
    "            if current_node.right!= None:\n",
    "                traverse(current_node.right)\n",
    "                \n",
    "        traverse(self.root)\n",
    "        return result\n",
    "    def post_order(self):\n",
    "        results = []\n",
    "        \n",
    "        def traverse(current_node):\n",
    "            \n",
    "            if current_node.left!= None:\n",
    "                traverse(current_node.left)\n",
    "            if current_node.right != None:\n",
    "                traverse(current_node.right)\n",
    "                \n",
    "            results.append(current_node.value)\n",
    "        traverse(self.root)\n",
    "        return results\n",
    "    \n",
    "    def in_order(self):\n",
    "        results = []\n",
    "        \n",
    "        def traverse(current_node):\n",
    "            \n",
    "            if current_node.left!= None:\n",
    "                traverse(current_node.left)\n",
    "            results.append(current_node.value)\n",
    "            if current_node.right != None:\n",
    "                traverse(current_node.right)\n",
    "                \n",
    "        \n",
    "        traverse(self.root)\n",
    "        return results            "
   ]
  },
  {
   "cell_type": "code",
   "execution_count": 24,
   "id": "181f28d8",
   "metadata": {},
   "outputs": [],
   "source": [
    "tree = BST()"
   ]
  },
  {
   "cell_type": "code",
   "execution_count": 25,
   "id": "85393808",
   "metadata": {},
   "outputs": [
    {
     "data": {
      "text/plain": [
       "True"
      ]
     },
     "execution_count": 25,
     "metadata": {},
     "output_type": "execute_result"
    }
   ],
   "source": [
    "tree.insert(47)"
   ]
  },
  {
   "cell_type": "code",
   "execution_count": 26,
   "id": "fb035125",
   "metadata": {},
   "outputs": [
    {
     "data": {
      "text/plain": [
       "True"
      ]
     },
     "execution_count": 26,
     "metadata": {},
     "output_type": "execute_result"
    }
   ],
   "source": [
    "tree.insert(21)"
   ]
  },
  {
   "cell_type": "code",
   "execution_count": 27,
   "id": "ea3e7e06",
   "metadata": {},
   "outputs": [
    {
     "data": {
      "text/plain": [
       "True"
      ]
     },
     "execution_count": 27,
     "metadata": {},
     "output_type": "execute_result"
    }
   ],
   "source": [
    "tree.insert(76)"
   ]
  },
  {
   "cell_type": "code",
   "execution_count": 28,
   "id": "21359602",
   "metadata": {},
   "outputs": [
    {
     "data": {
      "text/plain": [
       "True"
      ]
     },
     "execution_count": 28,
     "metadata": {},
     "output_type": "execute_result"
    }
   ],
   "source": [
    "tree.insert(18)"
   ]
  },
  {
   "cell_type": "code",
   "execution_count": 29,
   "id": "6a2be675",
   "metadata": {},
   "outputs": [
    {
     "data": {
      "text/plain": [
       "True"
      ]
     },
     "execution_count": 29,
     "metadata": {},
     "output_type": "execute_result"
    }
   ],
   "source": [
    "tree.insert(27)"
   ]
  },
  {
   "cell_type": "code",
   "execution_count": 30,
   "id": "a77769c3",
   "metadata": {},
   "outputs": [
    {
     "data": {
      "text/plain": [
       "True"
      ]
     },
     "execution_count": 30,
     "metadata": {},
     "output_type": "execute_result"
    }
   ],
   "source": [
    "tree.insert(52)"
   ]
  },
  {
   "cell_type": "code",
   "execution_count": 31,
   "id": "5a2217ba",
   "metadata": {},
   "outputs": [
    {
     "data": {
      "text/plain": [
       "True"
      ]
     },
     "execution_count": 31,
     "metadata": {},
     "output_type": "execute_result"
    }
   ],
   "source": [
    "tree.insert(82)"
   ]
  },
  {
   "cell_type": "code",
   "execution_count": 32,
   "id": "f111b198",
   "metadata": {},
   "outputs": [
    {
     "name": "stdout",
     "output_type": "stream",
     "text": [
      "[47, 21, 76, 18, 27, 52, 82]\n"
     ]
    }
   ],
   "source": [
    "print(tree.BFS())"
   ]
  },
  {
   "cell_type": "code",
   "execution_count": 33,
   "id": "cd0e1529",
   "metadata": {},
   "outputs": [
    {
     "name": "stdout",
     "output_type": "stream",
     "text": [
      "[47, 21, 18, 27, 76, 52, 82]\n"
     ]
    }
   ],
   "source": [
    "print(tree.pre_order())"
   ]
  },
  {
   "cell_type": "code",
   "execution_count": 34,
   "id": "d35297ad",
   "metadata": {},
   "outputs": [
    {
     "name": "stdout",
     "output_type": "stream",
     "text": [
      "[18, 27, 21, 52, 82, 76, 47]\n"
     ]
    }
   ],
   "source": [
    "print(tree.post_order())"
   ]
  },
  {
   "cell_type": "code",
   "execution_count": 35,
   "id": "3e24a71d",
   "metadata": {},
   "outputs": [
    {
     "name": "stdout",
     "output_type": "stream",
     "text": [
      "[18, 21, 27, 47, 52, 76, 82]\n"
     ]
    }
   ],
   "source": [
    "print(tree.in_order())"
   ]
  },
  {
   "cell_type": "code",
   "execution_count": null,
   "id": "7a9c39e6",
   "metadata": {},
   "outputs": [],
   "source": []
  }
 ],
 "metadata": {
  "kernelspec": {
   "display_name": "Python 3 (ipykernel)",
   "language": "python",
   "name": "python3"
  },
  "language_info": {
   "codemirror_mode": {
    "name": "ipython",
    "version": 3
   },
   "file_extension": ".py",
   "mimetype": "text/x-python",
   "name": "python",
   "nbconvert_exporter": "python",
   "pygments_lexer": "ipython3",
   "version": "3.11.3"
  }
 },
 "nbformat": 4,
 "nbformat_minor": 5
}
