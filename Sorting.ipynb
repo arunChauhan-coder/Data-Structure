{
 "cells": [
  {
   "cell_type": "code",
   "execution_count": 4,
   "id": "261750ea",
   "metadata": {},
   "outputs": [],
   "source": [
    "# Bubble Sort"
   ]
  },
  {
   "cell_type": "code",
   "execution_count": 20,
   "id": "93ac594c",
   "metadata": {},
   "outputs": [],
   "source": [
    "def bubble(lst):\n",
    "    for i in range(len(lst)-1,0,-1):\n",
    "        for j in range(i):\n",
    "            if lst[j]>lst[j+1]:\n",
    "                temp = lst[j]\n",
    "                lst[j]=lst[j+1]\n",
    "                lst[j+1] = temp\n",
    "    return lst\n",
    "        "
   ]
  },
  {
   "cell_type": "code",
   "execution_count": 21,
   "id": "bdcc7a45",
   "metadata": {},
   "outputs": [
    {
     "data": {
      "text/plain": [
       "[0, 1, 2, 3, 5]"
      ]
     },
     "execution_count": 21,
     "metadata": {},
     "output_type": "execute_result"
    }
   ],
   "source": [
    "bubble([3,2,0,5,1])"
   ]
  },
  {
   "cell_type": "code",
   "execution_count": null,
   "id": "c376b6eb",
   "metadata": {},
   "outputs": [],
   "source": [
    "# selection sort"
   ]
  },
  {
   "cell_type": "code",
   "execution_count": 9,
   "id": "3941189e",
   "metadata": {},
   "outputs": [],
   "source": [
    "def selection(lst):\n",
    "    for i in range(len(lst)-1):\n",
    "        min_index =i\n",
    "        for j in range(i+1,len(lst)):\n",
    "            if lst[j]<lst[min_index]:\n",
    "                min_index = j\n",
    "        if i!=  min_index:\n",
    "            temp = lst[min_index]\n",
    "            lst[min_index]=lst[i]\n",
    "            lst[i] = temp\n",
    "    return lst\n",
    "        \n",
    "        \n",
    "            "
   ]
  },
  {
   "cell_type": "code",
   "execution_count": 10,
   "id": "8efe1962",
   "metadata": {},
   "outputs": [
    {
     "data": {
      "text/plain": [
       "[0, 1, 2, 3, 5]"
      ]
     },
     "execution_count": 10,
     "metadata": {},
     "output_type": "execute_result"
    }
   ],
   "source": [
    "selection([3,2,0,5,1])"
   ]
  },
  {
   "cell_type": "code",
   "execution_count": 3,
   "id": "c387d9a7",
   "metadata": {},
   "outputs": [
    {
     "data": {
      "text/plain": [
       "[1, 2, 3, 4]"
      ]
     },
     "execution_count": 3,
     "metadata": {},
     "output_type": "execute_result"
    }
   ],
   "source": [
    "lst=[1,2,3]\n",
    "lst.append(4)\n",
    "lst"
   ]
  },
  {
   "cell_type": "code",
   "execution_count": 1,
   "id": "1e48035e",
   "metadata": {},
   "outputs": [],
   "source": [
    "# Insertion Sort"
   ]
  },
  {
   "cell_type": "code",
   "execution_count": 2,
   "id": "4aa59358",
   "metadata": {},
   "outputs": [
    {
     "name": "stdout",
     "output_type": "stream",
     "text": [
      "[1, 2, 3, 4, 5, 6]\n"
     ]
    }
   ],
   "source": [
    "def insertion_sort(my_list):\n",
    "    for i in range(1, len(my_list)):\n",
    "        temp = my_list[i]\n",
    "        j = i-1\n",
    "        while temp < my_list[j] and j > -1:\n",
    "            my_list[j+1] = my_list[j] \n",
    "            my_list[j] = temp\n",
    "            j -= 1\n",
    "    return my_list\n",
    "\n",
    "print(insertion_sort([4,2,6,5,1,3]))"
   ]
  },
  {
   "cell_type": "code",
   "execution_count": null,
   "id": "9d8aa1f1",
   "metadata": {},
   "outputs": [],
   "source": []
  },
  {
   "cell_type": "code",
   "execution_count": 5,
   "id": "f3f4e0bf",
   "metadata": {},
   "outputs": [],
   "source": [
    "# Merge Sort"
   ]
  },
  {
   "cell_type": "code",
   "execution_count": 18,
   "id": "efd6350a",
   "metadata": {},
   "outputs": [],
   "source": [
    "def merge(lst1,lst2):\n",
    "    i = 0\n",
    "    j = 0\n",
    "    lst= []\n",
    "    \n",
    "    while(i<len(lst1) and j<len(lst2)):\n",
    "        if lst1[i]<lst2[j]:\n",
    "            lst.append(lst1[i])\n",
    "            i+=1\n",
    "        else:\n",
    "            lst.append(lst2[j])\n",
    "            j+=1\n",
    "    while i<len(lst1):\n",
    "        lst.append(lst1[i])\n",
    "        i+=1\n",
    "    while j<len(lst2):\n",
    "        lst.append(lst2[j])\n",
    "        j+=1\n",
    "        \n",
    "    return lst\n",
    "        \n",
    "def merge_sort(lst):\n",
    "    \n",
    "    if len(lst) == 1:\n",
    "        return lst\n",
    "    mid = len(lst)//2\n",
    "    left = merge_sort(lst[:mid])\n",
    "    right = merge_sort(lst[mid:])\n",
    "    return merge(left,right)\n",
    "            "
   ]
  },
  {
   "cell_type": "code",
   "execution_count": 19,
   "id": "29836ea9",
   "metadata": {},
   "outputs": [
    {
     "name": "stdout",
     "output_type": "stream",
     "text": [
      "Original List: [3, 1, 4, 2]\n",
      "\n",
      "Sorted List: [1, 2, 3, 4]\n"
     ]
    }
   ],
   "source": [
    "original_list = [3,1,4,2]\n",
    "\n",
    "sorted_list = merge_sort(original_list)\n",
    "\n",
    "print('Original List:', original_list)\n",
    "\n",
    "print('\\nSorted List:', sorted_list)"
   ]
  },
  {
   "cell_type": "code",
   "execution_count": 4,
   "id": "aaea2f89",
   "metadata": {},
   "outputs": [],
   "source": [
    "#Quick Sort ( best Sorting technique)"
   ]
  },
  {
   "cell_type": "code",
   "execution_count": null,
   "id": "c7380bba",
   "metadata": {},
   "outputs": [],
   "source": [
    "def swap(my_list, index1, index2):\n",
    "    temp = my_list[index1]\n",
    "    my_list[index1] = my_list[index2]\n",
    "    my_list[index2] = temp\n",
    "\n",
    "\n",
    "def pivot(my_list, pivot_index, end_index):\n",
    "    swap_index = pivot_index\n",
    "\n",
    "    for i in range(pivot_index+1, end_index+1):\n",
    "        if my_list[i] < my_list[pivot_index]:\n",
    "            swap_index += 1\n",
    "            swap(my_list, swap_index, i)\n",
    "    swap(my_list, pivot_index, swap_index)\n",
    "    return swap_index\n",
    "\n",
    "\n",
    "def quick_sort_helper(my_list, left, right):\n",
    "    if left < right:\n",
    "        pivot_index = pivot(my_list, left, right)\n",
    "        quick_sort_helper(my_list, left, pivot_index-1)  \n",
    "        quick_sort_helper(my_list, pivot_index+1, right)       \n",
    "    return my_list\n",
    "    \n",
    "\n",
    "def quick_sort(my_list):\n",
    "    quick_sort_helper(my_list, 0, len(my_list)-1)\n",
    "\n",
    "\n",
    "my_list = [4,6,1,7,3,2,5]\n",
    "\n",
    "quick_sort(my_list)\n",
    "\n",
    "print(my_list)\n"
   ]
  },
  {
   "cell_type": "markdown",
   "id": "e07f6335",
   "metadata": {},
   "source": [
    "Interview generally ask \n",
    "- quick\n",
    "- merge\n",
    "- bubble \n",
    "- insertion"
   ]
  },
  {
   "cell_type": "markdown",
   "id": "9add621c",
   "metadata": {},
   "source": [
    "# Do binary search and linear search"
   ]
  },
  {
   "cell_type": "code",
   "execution_count": null,
   "id": "487d037e",
   "metadata": {},
   "outputs": [],
   "source": []
  }
 ],
 "metadata": {
  "kernelspec": {
   "display_name": "Python 3 (ipykernel)",
   "language": "python",
   "name": "python3"
  },
  "language_info": {
   "codemirror_mode": {
    "name": "ipython",
    "version": 3
   },
   "file_extension": ".py",
   "mimetype": "text/x-python",
   "name": "python",
   "nbconvert_exporter": "python",
   "pygments_lexer": "ipython3",
   "version": "3.11.3"
  }
 },
 "nbformat": 4,
 "nbformat_minor": 5
}
