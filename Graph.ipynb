{
 "cells": [
  {
   "cell_type": "code",
   "execution_count": 68,
   "id": "fbe86e2a",
   "metadata": {},
   "outputs": [],
   "source": [
    "class Graph:\n",
    "    \n",
    "    def __init__(self):\n",
    "        self.adj_list = {}\n",
    "    \n",
    "    def add_vertex(self,vertex):\n",
    "        if vertex not in self.adj_list.keys():\n",
    "            self.adj_list[vertex]= []\n",
    "            return True\n",
    "        return False\n",
    "    def print_Graph(self):\n",
    "        for vertex in self.adj_list:\n",
    "            print(f'{vertex} :{self.adj_list[vertex]}')\n",
    "    def add_edge(self,v1,v2):\n",
    "        if v1 in self.adj_list.keys() and v2 in self.adj_list.keys():\n",
    "            self.adj_list[v1].append(v2)\n",
    "            self.adj_list[v2].append(v1)\n",
    "            return True\n",
    "        return False\n",
    "    def rm_edge(self,v1,v2):\n",
    "        if v1 in self.adj_list.keys() and v2 in self.adj_list.keys():\n",
    "            self.adj_list[v1].remove(v2)\n",
    "            self.adj_list[v2].remove(v1)\n",
    "            return True\n",
    "        return False\n",
    "    def rm_vertex(self,v1):\n",
    "        if v1 in self.adj_list.keys():\n",
    "            for vertex in self.adj_list[v1]:\n",
    "                self.adj_list[vertex].remove(v1)\n",
    "            self.adj_list.pop(v1)\n",
    "            return True\n",
    "        return False\n",
    "    "
   ]
  },
  {
   "cell_type": "code",
   "execution_count": 69,
   "id": "a4680560",
   "metadata": {},
   "outputs": [],
   "source": [
    "my_graph = Graph()"
   ]
  },
  {
   "cell_type": "code",
   "execution_count": 70,
   "id": "72feb995",
   "metadata": {},
   "outputs": [
    {
     "data": {
      "text/plain": [
       "True"
      ]
     },
     "execution_count": 70,
     "metadata": {},
     "output_type": "execute_result"
    }
   ],
   "source": [
    "my_graph.add_vertex('A')"
   ]
  },
  {
   "cell_type": "code",
   "execution_count": 71,
   "id": "e3a718b2",
   "metadata": {},
   "outputs": [
    {
     "name": "stdout",
     "output_type": "stream",
     "text": [
      "A :[]\n"
     ]
    }
   ],
   "source": [
    "my_graph.print_Graph()"
   ]
  },
  {
   "cell_type": "code",
   "execution_count": 72,
   "id": "502427bd",
   "metadata": {},
   "outputs": [
    {
     "data": {
      "text/plain": [
       "False"
      ]
     },
     "execution_count": 72,
     "metadata": {},
     "output_type": "execute_result"
    }
   ],
   "source": [
    "my_graph.add_edge('A','B')"
   ]
  },
  {
   "cell_type": "code",
   "execution_count": 73,
   "id": "27eefb54",
   "metadata": {},
   "outputs": [
    {
     "data": {
      "text/plain": [
       "True"
      ]
     },
     "execution_count": 73,
     "metadata": {},
     "output_type": "execute_result"
    }
   ],
   "source": [
    "my_graph.add_vertex('B')"
   ]
  },
  {
   "cell_type": "code",
   "execution_count": 74,
   "id": "769b9286",
   "metadata": {},
   "outputs": [
    {
     "data": {
      "text/plain": [
       "True"
      ]
     },
     "execution_count": 74,
     "metadata": {},
     "output_type": "execute_result"
    }
   ],
   "source": [
    "my_graph.add_edge('A','B')"
   ]
  },
  {
   "cell_type": "code",
   "execution_count": 75,
   "id": "d3b5d684",
   "metadata": {},
   "outputs": [
    {
     "name": "stdout",
     "output_type": "stream",
     "text": [
      "A :['B']\n",
      "B :['A']\n"
     ]
    }
   ],
   "source": [
    "my_graph.print_Graph()"
   ]
  },
  {
   "cell_type": "code",
   "execution_count": 76,
   "id": "31227f3e",
   "metadata": {},
   "outputs": [
    {
     "data": {
      "text/plain": [
       "True"
      ]
     },
     "execution_count": 76,
     "metadata": {},
     "output_type": "execute_result"
    }
   ],
   "source": [
    "my_graph.rm_edge('A','B')"
   ]
  },
  {
   "cell_type": "code",
   "execution_count": 77,
   "id": "1935c506",
   "metadata": {},
   "outputs": [
    {
     "name": "stdout",
     "output_type": "stream",
     "text": [
      "A :[]\n",
      "B :[]\n"
     ]
    }
   ],
   "source": [
    "my_graph.print_Graph()"
   ]
  },
  {
   "cell_type": "code",
   "execution_count": 78,
   "id": "ed67f361",
   "metadata": {},
   "outputs": [
    {
     "data": {
      "text/plain": [
       "True"
      ]
     },
     "execution_count": 78,
     "metadata": {},
     "output_type": "execute_result"
    }
   ],
   "source": [
    "my_graph.add_edge('A','B')"
   ]
  },
  {
   "cell_type": "code",
   "execution_count": 79,
   "id": "e5fe97d1",
   "metadata": {},
   "outputs": [
    {
     "name": "stdout",
     "output_type": "stream",
     "text": [
      "A :['B']\n",
      "B :['A']\n"
     ]
    }
   ],
   "source": [
    "my_graph.print_Graph()"
   ]
  },
  {
   "cell_type": "code",
   "execution_count": 81,
   "id": "0fa70884",
   "metadata": {},
   "outputs": [
    {
     "data": {
      "text/plain": [
       "True"
      ]
     },
     "execution_count": 81,
     "metadata": {},
     "output_type": "execute_result"
    }
   ],
   "source": [
    "my_graph.rm_vertex('A')"
   ]
  },
  {
   "cell_type": "code",
   "execution_count": 82,
   "id": "5388b2b9",
   "metadata": {},
   "outputs": [
    {
     "name": "stdout",
     "output_type": "stream",
     "text": [
      "B :[]\n"
     ]
    }
   ],
   "source": [
    "my_graph.print_Graph()"
   ]
  },
  {
   "cell_type": "code",
   "execution_count": null,
   "id": "8f088199",
   "metadata": {},
   "outputs": [],
   "source": []
  },
  {
   "cell_type": "code",
   "execution_count": null,
   "id": "ae9e87b7",
   "metadata": {},
   "outputs": [],
   "source": []
  },
  {
   "cell_type": "code",
   "execution_count": null,
   "id": "3fca2961",
   "metadata": {},
   "outputs": [],
   "source": []
  },
  {
   "cell_type": "code",
   "execution_count": null,
   "id": "adbf2161",
   "metadata": {},
   "outputs": [],
   "source": []
  },
  {
   "cell_type": "code",
   "execution_count": null,
   "id": "b3d4a370",
   "metadata": {},
   "outputs": [],
   "source": []
  },
  {
   "cell_type": "code",
   "execution_count": null,
   "id": "0ee4110f",
   "metadata": {},
   "outputs": [],
   "source": []
  },
  {
   "cell_type": "code",
   "execution_count": null,
   "id": "723e674b",
   "metadata": {},
   "outputs": [],
   "source": []
  },
  {
   "cell_type": "code",
   "execution_count": null,
   "id": "2464ffdf",
   "metadata": {},
   "outputs": [],
   "source": []
  },
  {
   "cell_type": "code",
   "execution_count": null,
   "id": "1fe3a232",
   "metadata": {},
   "outputs": [],
   "source": []
  },
  {
   "cell_type": "code",
   "execution_count": null,
   "id": "2551df25",
   "metadata": {},
   "outputs": [],
   "source": []
  }
 ],
 "metadata": {
  "kernelspec": {
   "display_name": "Python 3 (ipykernel)",
   "language": "python",
   "name": "python3"
  },
  "language_info": {
   "codemirror_mode": {
    "name": "ipython",
    "version": 3
   },
   "file_extension": ".py",
   "mimetype": "text/x-python",
   "name": "python",
   "nbconvert_exporter": "python",
   "pygments_lexer": "ipython3",
   "version": "3.11.3"
  }
 },
 "nbformat": 4,
 "nbformat_minor": 5
}
