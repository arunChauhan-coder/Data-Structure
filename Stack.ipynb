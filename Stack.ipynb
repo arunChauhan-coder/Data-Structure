{
 "cells": [
  {
   "cell_type": "code",
   "execution_count": 1,
   "id": "39022904",
   "metadata": {},
   "outputs": [],
   "source": [
    "class Node:\n",
    "    def __init__(self,value):\n",
    "        self.value = value\n",
    "        self.next = None\n"
   ]
  },
  {
   "cell_type": "code",
   "execution_count": 29,
   "id": "86b90523",
   "metadata": {},
   "outputs": [],
   "source": [
    "class Stack:\n",
    "    def __init__(self,value):\n",
    "        new_node = Node(value)\n",
    "        self.top = new_node\n",
    "        self.length = 1\n",
    "        \n",
    "    def printS(self):\n",
    "        temp = self.top\n",
    "        while temp!= None:\n",
    "            print(temp.value)\n",
    "            temp  = temp.next\n",
    "        \n",
    "    def push(self,value):\n",
    "        new_node = Node(value)\n",
    "        if self.top == None:\n",
    "            self.top = new_node\n",
    "            self.length=1\n",
    "        else:\n",
    "            new_node.next = self.top\n",
    "            self.top = new_node\n",
    "            self.length+=1\n",
    "    def pop(self):\n",
    "        if self.top== None:\n",
    "            return None\n",
    "        elif self.length ==1:\n",
    "            temp = self.top\n",
    "            self.top = None\n",
    "            self.length = 0\n",
    "            return temp\n",
    "        else:\n",
    "            temp = self.top\n",
    "            self.top = temp.next\n",
    "            self.length -=1\n",
    "            return temp\n",
    "        \n",
    "            \n",
    "                \n",
    "        "
   ]
  },
  {
   "cell_type": "code",
   "execution_count": 30,
   "id": "264df288",
   "metadata": {},
   "outputs": [],
   "source": [
    "stack = Stack(5)"
   ]
  },
  {
   "cell_type": "code",
   "execution_count": 31,
   "id": "368a4378",
   "metadata": {},
   "outputs": [],
   "source": [
    "stack.push(4)"
   ]
  },
  {
   "cell_type": "code",
   "execution_count": 32,
   "id": "587074bd",
   "metadata": {},
   "outputs": [
    {
     "name": "stdout",
     "output_type": "stream",
     "text": [
      "4\n",
      "5\n"
     ]
    }
   ],
   "source": [
    "stack.printS()"
   ]
  },
  {
   "cell_type": "code",
   "execution_count": 33,
   "id": "4f7fb7e4",
   "metadata": {},
   "outputs": [
    {
     "data": {
      "text/plain": [
       "4"
      ]
     },
     "execution_count": 33,
     "metadata": {},
     "output_type": "execute_result"
    }
   ],
   "source": [
    "var = stack.pop()\n",
    "var.value"
   ]
  },
  {
   "cell_type": "code",
   "execution_count": null,
   "id": "fa3b2e78",
   "metadata": {},
   "outputs": [],
   "source": []
  }
 ],
 "metadata": {
  "kernelspec": {
   "display_name": "Python 3 (ipykernel)",
   "language": "python",
   "name": "python3"
  },
  "language_info": {
   "codemirror_mode": {
    "name": "ipython",
    "version": 3
   },
   "file_extension": ".py",
   "mimetype": "text/x-python",
   "name": "python",
   "nbconvert_exporter": "python",
   "pygments_lexer": "ipython3",
   "version": "3.11.3"
  }
 },
 "nbformat": 4,
 "nbformat_minor": 5
}
