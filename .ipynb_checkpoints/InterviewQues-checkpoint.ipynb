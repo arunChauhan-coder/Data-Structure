{
 "cells": [
  {
   "cell_type": "markdown",
   "id": "82c11c53",
   "metadata": {},
   "source": [
    "# Sorting"
   ]
  },
  {
   "cell_type": "code",
   "execution_count": 12,
   "id": "fba39ad2",
   "metadata": {},
   "outputs": [],
   "source": [
    "#Quick Sort"
   ]
  },
  {
   "cell_type": "code",
   "execution_count": 13,
   "id": "7a5dfbb4",
   "metadata": {},
   "outputs": [],
   "source": [
    "def swap(lst,index1,index2):\n",
    "    temp = lst[index1]\n",
    "    lst[index1] = lst[index2]\n",
    "    lst[index2] = temp"
   ]
  },
  {
   "cell_type": "code",
   "execution_count": 14,
   "id": "54e22416",
   "metadata": {},
   "outputs": [],
   "source": [
    "def pivot(lst,pivot_index,end_index):\n",
    "    swap_index = pivot_index\n",
    "    \n",
    "    for i in range(pivot_index+1,end_index+1):\n",
    "        if lst[i]<lst[pivot_index]:\n",
    "            swap_index+=1\n",
    "            swap(lst,swap_index,i)\n",
    "    swap(lst,pivot_index,swap_index)\n",
    "    return swap_index"
   ]
  },
  {
   "cell_type": "code",
   "execution_count": 15,
   "id": "4c1dd701",
   "metadata": {},
   "outputs": [],
   "source": [
    "def quick_sort_helper(lst,left,right):\n",
    "    if left<right:\n",
    "        pivot_index = pivot(lst,left,right)\n",
    "        quick_sort_helper(lst,left,pivot_index-1)\n",
    "        quick_sort_helper(lst,pivot_index+1,right)\n",
    "    return lst"
   ]
  },
  {
   "cell_type": "code",
   "execution_count": 16,
   "id": "c48c45fb",
   "metadata": {},
   "outputs": [],
   "source": [
    "def quick_sort(my_list):\n",
    "    quick_sort_helper(my_list, 0, len(my_list)-1)"
   ]
  },
  {
   "cell_type": "code",
   "execution_count": 17,
   "id": "d1e29a66",
   "metadata": {},
   "outputs": [
    {
     "name": "stdout",
     "output_type": "stream",
     "text": [
      "[1, 2, 3, 4, 5, 6, 7]\n"
     ]
    }
   ],
   "source": [
    "my_list = [4,6,1,7,3,2,5]\n",
    "\n",
    "quick_sort(my_list)\n",
    "\n",
    "print(my_list)"
   ]
  },
  {
   "cell_type": "markdown",
   "id": "ea019b15",
   "metadata": {},
   "source": [
    "# Searching"
   ]
  },
  {
   "cell_type": "markdown",
   "id": "78cbd032",
   "metadata": {},
   "source": [
    "# Array"
   ]
  },
  {
   "cell_type": "markdown",
   "id": "9ed27b8b",
   "metadata": {},
   "source": [
    "### Check if pair with given Sum exists in Array (Two Sum)"
   ]
  },
  {
   "cell_type": "code",
   "execution_count": 7,
   "id": "a0b0fe35",
   "metadata": {},
   "outputs": [],
   "source": [
    "def check_sum(num,lst):\n",
    "    for i in range(len(lst)):\n",
    "        for j in range(len(lst)):\n",
    "            if lst[i] + lst[j] == num:\n",
    "                return True\n",
    "    else:\n",
    "        return False\n",
    "        "
   ]
  },
  {
   "cell_type": "code",
   "execution_count": 8,
   "id": "b88b87a5",
   "metadata": {},
   "outputs": [
    {
     "data": {
      "text/plain": [
       "True"
      ]
     },
     "execution_count": 8,
     "metadata": {},
     "output_type": "execute_result"
    }
   ],
   "source": [
    "check_sum(-2,[0, -1, 2, -3, 1])"
   ]
  },
  {
   "cell_type": "code",
   "execution_count": 9,
   "id": "6edeafa9",
   "metadata": {},
   "outputs": [
    {
     "data": {
      "text/plain": [
       "False"
      ]
     },
     "execution_count": 9,
     "metadata": {},
     "output_type": "execute_result"
    }
   ],
   "source": [
    "check_sum(5,[1,1,2,2])"
   ]
  },
  {
   "cell_type": "code",
   "execution_count": null,
   "id": "f0da9b1d",
   "metadata": {},
   "outputs": [],
   "source": []
  }
 ],
 "metadata": {
  "kernelspec": {
   "display_name": "Python 3 (ipykernel)",
   "language": "python",
   "name": "python3"
  },
  "language_info": {
   "codemirror_mode": {
    "name": "ipython",
    "version": 3
   },
   "file_extension": ".py",
   "mimetype": "text/x-python",
   "name": "python",
   "nbconvert_exporter": "python",
   "pygments_lexer": "ipython3",
   "version": "3.11.3"
  }
 },
 "nbformat": 4,
 "nbformat_minor": 5
}
