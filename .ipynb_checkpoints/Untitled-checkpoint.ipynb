{
 "cells": [
  {
   "cell_type": "code",
   "execution_count": 1,
   "id": "a5de923b",
   "metadata": {},
   "outputs": [],
   "source": [
    "class Node:\n",
    "    def __init__(self,value):\n",
    "        self.value = value\n",
    "        self.next = None\n"
   ]
  },
  {
   "cell_type": "code",
   "execution_count": 18,
   "id": "814ce43a",
   "metadata": {},
   "outputs": [],
   "source": [
    "class Queue:\n",
    "    def __init__(self,value):\n",
    "        new_node = Node(value)\n",
    "        self.first = new_node\n",
    "        self.last = new_node\n",
    "        self.length =1\n",
    "    def enqueue(self,value):\n",
    "        new_node = Node(value)\n",
    "        if self.first ==None:\n",
    "            self.first = new_node\n",
    "            self.last = new_node\n",
    "        else: \n",
    "            self.last.next = new_node\n",
    "            self.last = new_node\n",
    "        self.length+=1\n",
    "    def dequeue(self):\n",
    "        if self.first == None:\n",
    "            return None\n",
    "        elif self.length == 1:\n",
    "            temp = self.first\n",
    "            self.first = None\n",
    "            self.last = None\n",
    "            return temp\n",
    "        else:\n",
    "            temp = self.first\n",
    "            self.first = temp.next\n",
    "            temp.next = None\n",
    "        self.length-=1\n",
    "        \n",
    "    def printQ(self):\n",
    "        temp = self.first\n",
    "        while temp != None:\n",
    "            print(temp.value)\n",
    "            temp = temp.next\n",
    "            "
   ]
  },
  {
   "cell_type": "code",
   "execution_count": 19,
   "id": "1c0a2b07",
   "metadata": {},
   "outputs": [],
   "source": [
    "q = Queue(5)"
   ]
  },
  {
   "cell_type": "code",
   "execution_count": 20,
   "id": "82f468d0",
   "metadata": {},
   "outputs": [
    {
     "name": "stdout",
     "output_type": "stream",
     "text": [
      "5\n"
     ]
    }
   ],
   "source": [
    "q.printQ()"
   ]
  },
  {
   "cell_type": "code",
   "execution_count": 21,
   "id": "d6797973",
   "metadata": {},
   "outputs": [],
   "source": [
    "q.enqueue(10)"
   ]
  },
  {
   "cell_type": "code",
   "execution_count": 22,
   "id": "7de438a2",
   "metadata": {},
   "outputs": [
    {
     "name": "stdout",
     "output_type": "stream",
     "text": [
      "5\n",
      "10\n"
     ]
    }
   ],
   "source": [
    "q.printQ()"
   ]
  },
  {
   "cell_type": "code",
   "execution_count": 23,
   "id": "fe33e380",
   "metadata": {},
   "outputs": [],
   "source": [
    "q.dequeue()"
   ]
  },
  {
   "cell_type": "code",
   "execution_count": 24,
   "id": "8869c8ff",
   "metadata": {},
   "outputs": [
    {
     "name": "stdout",
     "output_type": "stream",
     "text": [
      "10\n"
     ]
    }
   ],
   "source": [
    "q.printQ()"
   ]
  },
  {
   "cell_type": "code",
   "execution_count": null,
   "id": "7e5a164f",
   "metadata": {},
   "outputs": [],
   "source": []
  }
 ],
 "metadata": {
  "kernelspec": {
   "display_name": "Python 3 (ipykernel)",
   "language": "python",
   "name": "python3"
  },
  "language_info": {
   "codemirror_mode": {
    "name": "ipython",
    "version": 3
   },
   "file_extension": ".py",
   "mimetype": "text/x-python",
   "name": "python",
   "nbconvert_exporter": "python",
   "pygments_lexer": "ipython3",
   "version": "3.11.3"
  }
 },
 "nbformat": 4,
 "nbformat_minor": 5
}
