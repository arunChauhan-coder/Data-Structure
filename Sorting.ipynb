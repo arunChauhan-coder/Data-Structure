{
 "cells": [
  {
   "cell_type": "code",
   "execution_count": 4,
   "id": "261750ea",
   "metadata": {},
   "outputs": [],
   "source": [
    "# Bubble Sort"
   ]
  },
  {
   "cell_type": "code",
   "execution_count": 20,
   "id": "93ac594c",
   "metadata": {},
   "outputs": [],
   "source": [
    "def bubble(lst):\n",
    "    for i in range(len(lst)-1,0,-1):\n",
    "        for j in range(i):\n",
    "            if lst[j]>lst[j+1]:\n",
    "                temp = lst[j]\n",
    "                lst[j]=lst[j+1]\n",
    "                lst[j+1] = temp\n",
    "    return lst\n",
    "        "
   ]
  },
  {
   "cell_type": "code",
   "execution_count": 21,
   "id": "bdcc7a45",
   "metadata": {},
   "outputs": [
    {
     "data": {
      "text/plain": [
       "[0, 1, 2, 3, 5]"
      ]
     },
     "execution_count": 21,
     "metadata": {},
     "output_type": "execute_result"
    }
   ],
   "source": [
    "bubble([3,2,0,5,1])"
   ]
  },
  {
   "cell_type": "code",
   "execution_count": null,
   "id": "c376b6eb",
   "metadata": {},
   "outputs": [],
   "source": [
    "# selection sort"
   ]
  },
  {
   "cell_type": "code",
   "execution_count": 9,
   "id": "3941189e",
   "metadata": {},
   "outputs": [],
   "source": [
    "def selection(lst):\n",
    "    for i in range(len(lst)-1):\n",
    "        min_index =i\n",
    "        for j in range(i+1,len(lst)):\n",
    "            if lst[j]<lst[min_index]:\n",
    "                min_index = j\n",
    "        if i!=  min_index:\n",
    "            temp = lst[min_index]\n",
    "            lst[min_index]=lst[i]\n",
    "            lst[i] = temp\n",
    "    return lst\n",
    "        \n",
    "        \n",
    "            "
   ]
  },
  {
   "cell_type": "code",
   "execution_count": 10,
   "id": "8efe1962",
   "metadata": {},
   "outputs": [
    {
     "data": {
      "text/plain": [
       "[0, 1, 2, 3, 5]"
      ]
     },
     "execution_count": 10,
     "metadata": {},
     "output_type": "execute_result"
    }
   ],
   "source": [
    "selection([3,2,0,5,1])"
   ]
  },
  {
   "cell_type": "code",
   "execution_count": 3,
   "id": "c387d9a7",
   "metadata": {},
   "outputs": [
    {
     "data": {
      "text/plain": [
       "[1, 2, 3, 4]"
      ]
     },
     "execution_count": 3,
     "metadata": {},
     "output_type": "execute_result"
    }
   ],
   "source": [
    "lst=[1,2,3]\n",
    "lst.append(4)\n",
    "lst"
   ]
  },
  {
   "cell_type": "markdown",
   "id": "ea4c7c7d",
   "metadata": {},
   "source": [
    "## Merge Sort"
   ]
  },
  {
   "cell_type": "code",
   "execution_count": 18,
   "id": "efd6350a",
   "metadata": {},
   "outputs": [],
   "source": [
    "def merge(lst1,lst2):\n",
    "    i = 0\n",
    "    j = 0\n",
    "    lst= []\n",
    "    \n",
    "    while(i<len(lst1) and j<len(lst2)):\n",
    "        if lst1[i]<lst2[j]:\n",
    "            lst.append(lst1[i])\n",
    "            i+=1\n",
    "        else:\n",
    "            lst.append(lst2[j])\n",
    "            j+=1\n",
    "    while i<len(lst1):\n",
    "        lst.append(lst1[i])\n",
    "        i+=1\n",
    "    while j<len(lst2):\n",
    "        lst.append(lst2[j])\n",
    "        j+=1\n",
    "        \n",
    "    return lst\n",
    "        \n",
    "def merge_sort(lst):\n",
    "    \n",
    "    if len(lst) == 1:\n",
    "        return lst\n",
    "    mid = len(lst)//2\n",
    "    left = merge_sort(lst[:mid])\n",
    "    right = merge_sort(lst[mid:])\n",
    "    return merge(left,right)\n",
    "            "
   ]
  },
  {
   "cell_type": "code",
   "execution_count": 19,
   "id": "29836ea9",
   "metadata": {},
   "outputs": [
    {
     "name": "stdout",
     "output_type": "stream",
     "text": [
      "Original List: [3, 1, 4, 2]\n",
      "\n",
      "Sorted List: [1, 2, 3, 4]\n"
     ]
    }
   ],
   "source": [
    "original_list = [3,1,4,2]\n",
    "\n",
    "sorted_list = merge_sort(original_list)\n",
    "\n",
    "print('Original List:', original_list)\n",
    "\n",
    "print('\\nSorted List:', sorted_list)"
   ]
  },
  {
   "cell_type": "code",
   "execution_count": null,
   "id": "03a18af3",
   "metadata": {},
   "outputs": [],
   "source": [
    "3"
   ]
  }
 ],
 "metadata": {
  "kernelspec": {
   "display_name": "Python 3 (ipykernel)",
   "language": "python",
   "name": "python3"
  },
  "language_info": {
   "codemirror_mode": {
    "name": "ipython",
    "version": 3
   },
   "file_extension": ".py",
   "mimetype": "text/x-python",
   "name": "python",
   "nbconvert_exporter": "python",
   "pygments_lexer": "ipython3",
   "version": "3.11.3"
  }
 },
 "nbformat": 4,
 "nbformat_minor": 5
}
