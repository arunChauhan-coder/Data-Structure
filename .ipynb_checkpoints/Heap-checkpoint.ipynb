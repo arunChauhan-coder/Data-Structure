{
 "cells": [
  {
   "cell_type": "code",
   "execution_count": 31,
   "id": "4ebe844d",
   "metadata": {},
   "outputs": [],
   "source": [
    "class Heap:\n",
    "    def __init__(self):\n",
    "        self.heap = []\n",
    "    def __leftChild(self,index):\n",
    "        return 2 * index\n",
    "    def __rightChild(self,index):\n",
    "        return 2*index+1\n",
    "    def parent(self,index):\n",
    "        return index//2\n",
    "    def swap(self,index1,index2):\n",
    "        self.heap[index1],self.heap[index2] = self.heap[index2],self.heap[index1]\n",
    "    def insert(self,value):\n",
    "        current = len(self.heap)\n",
    "        self.heap.append(value)\n",
    "        \n",
    "        while current>0 and self.heap[current]>self.heap[self.parent(current)]:\n",
    "            self.swap(current,self.parent(current))\n",
    "            current = self.parent(current)\n",
    "            \n",
    "            \n",
    "            "
   ]
  },
  {
   "cell_type": "code",
   "execution_count": 32,
   "id": "3fc8e5e6",
   "metadata": {},
   "outputs": [],
   "source": [
    "heap = Heap()"
   ]
  },
  {
   "cell_type": "code",
   "execution_count": 33,
   "id": "eb78f907",
   "metadata": {},
   "outputs": [],
   "source": [
    "heap.insert(99)"
   ]
  },
  {
   "cell_type": "code",
   "execution_count": 34,
   "id": "4395bd16",
   "metadata": {},
   "outputs": [],
   "source": [
    "heap.insert(72)\n",
    "heap.insert(61)\n",
    "heap.insert(58)"
   ]
  },
  {
   "cell_type": "code",
   "execution_count": 35,
   "id": "67f7c3e3",
   "metadata": {},
   "outputs": [
    {
     "name": "stdout",
     "output_type": "stream",
     "text": [
      "[99, 72, 61, 58]\n"
     ]
    }
   ],
   "source": [
    "print(heap.heap)"
   ]
  },
  {
   "cell_type": "code",
   "execution_count": null,
   "id": "26f0e563",
   "metadata": {},
   "outputs": [],
   "source": []
  }
 ],
 "metadata": {
  "kernelspec": {
   "display_name": "Python 3 (ipykernel)",
   "language": "python",
   "name": "python3"
  },
  "language_info": {
   "codemirror_mode": {
    "name": "ipython",
    "version": 3
   },
   "file_extension": ".py",
   "mimetype": "text/x-python",
   "name": "python",
   "nbconvert_exporter": "python",
   "pygments_lexer": "ipython3",
   "version": "3.11.3"
  }
 },
 "nbformat": 4,
 "nbformat_minor": 5
}
