{
 "cells": [
  {
   "cell_type": "code",
   "execution_count": 1,
   "id": "6b085bbb",
   "metadata": {},
   "outputs": [],
   "source": [
    "#Linkedlist creation"
   ]
  },
  {
   "cell_type": "code",
   "execution_count": 2,
   "id": "34bc356f",
   "metadata": {},
   "outputs": [],
   "source": [
    "class Node:\n",
    "    def __init__(self,value):\n",
    "        self.value = value\n",
    "        self.next = None\n"
   ]
  },
  {
   "cell_type": "code",
   "execution_count": 60,
   "id": "170f074d",
   "metadata": {},
   "outputs": [],
   "source": [
    "class Linked_list:\n",
    "    def __init__(self,value):\n",
    "        new_node = Node(value)\n",
    "        self.head = new_node\n",
    "        self.tail = new_node\n",
    "        self.length = 1\n",
    "    def print_LL(self):\n",
    "        temp = self.head\n",
    "        while temp is not None:\n",
    "            print(temp.value)\n",
    "            temp = temp.next\n",
    "    def append(self,value):\n",
    "        new_node = Node(value)\n",
    "        if self.head is not None:\n",
    "            self.tail.next = new_node\n",
    "            self.tail = new_node\n",
    "            self.length+=1\n",
    "        else:\n",
    "            self.head = new_node\n",
    "            self.tail = new_node\n",
    "            self.length = 1\n",
    "    def pop(self):\n",
    "        if self.head is None:\n",
    "            return \"No Node\"\n",
    "    \n",
    "        else:\n",
    "            \n",
    "            val = self.tail.value\n",
    "            temp = self.head\n",
    "            \n",
    "            while(temp.next!= None ):\n",
    "                pre = temp\n",
    "                temp = temp.next\n",
    "                \n",
    "            \n",
    "            self.tail = pre\n",
    "            self.tail.next = None\n",
    "            self.length-=1\n",
    "            if self.length == 0:\n",
    "                self.head = None\n",
    "                self.tail = None\n",
    "                \n",
    "            return val\n",
    "    def prepend(self,value):\n",
    "    \n",
    "        new_node = Node(value)\n",
    "        \n",
    "        if self.length == 0:\n",
    "            self.head  = new_node\n",
    "            self.tail = new_node\n",
    "        else:\n",
    "            new_node.next = self.head\n",
    "            self.head = new_node\n",
    "        self.length +=1\n",
    "    def pop_first(self):\n",
    "        \n",
    "        if self.head == None:\n",
    "            return \"no node\"\n",
    "        else:\n",
    "            val = self.head.value\n",
    "            temp = self.head\n",
    "            self.head = self.head.next\n",
    "            temp.next = None\n",
    "            \n",
    "            self.length-=1\n",
    "            \n",
    "            if self.length == 0:\n",
    "                self.tail = None\n",
    "            return f\"poped value is :{val}\"   \n",
    "    def get(self,index):\n",
    "        if index<0 or index>=self.length:\n",
    "            return \"Null\"\n",
    "        else:\n",
    "            temp = self.head\n",
    "            \n",
    "            for _ in range(index): # if we dont use var inside the loop than we  use _ as var\n",
    "                temp = temp.next\n",
    "            return temp\n",
    "    def set(self,index,value):\n",
    "        \n",
    "        if index<0 or index>=self.length:\n",
    "            return \"Null\"\n",
    "        else:\n",
    "            temp = self.head\n",
    "            for _ in range(index):\n",
    "                temp = temp.next\n",
    "                \n",
    "            temp.value = value\n",
    "    def insert(self,index,value):\n",
    "        if index == 0:\n",
    "            self.prepend(value)\n",
    "        elif index == self.length:\n",
    "            self.append(value)\n",
    "        else:\n",
    "            new_node = Node(value)\n",
    "            temp = self.get(index-1)\n",
    "            new_node.next = temp.next\n",
    "            temp.next = new_node\n",
    "            self.length+=1\n",
    "    def remove(self,index):\n",
    "        if self.head is None:\n",
    "            return \"NUll LL\"\n",
    "        elif index == 0:\n",
    "            self.pop_first()\n",
    "        elif index == self.length-1:\n",
    "            self.pop()\n",
    "        else:\n",
    "            temp = self.head\n",
    "            for _ in range(index):\n",
    "                pre = temp\n",
    "                temp = temp.next\n",
    "            pre.next = temp.next\n",
    "            temp.next = None\n",
    "           \n",
    "            self.length -=1\n",
    "    def reverse(self):\n",
    "        \n",
    "        temp = self.head\n",
    "        self.head = self.tail\n",
    "        self.tail = temp\n",
    "        before = None\n",
    "        after = temp.next\n",
    "        for _ in range(self.length):\n",
    "            after = temp.next\n",
    "            temp.next = before\n",
    "            before = temp\n",
    "            temp = after\n",
    "           \n",
    "            \n",
    "            \n",
    "             "
   ]
  },
  {
   "cell_type": "code",
   "execution_count": 61,
   "id": "58410427",
   "metadata": {},
   "outputs": [],
   "source": [
    "my_LL = Linked_list(4)"
   ]
  },
  {
   "cell_type": "code",
   "execution_count": 62,
   "id": "7f519052",
   "metadata": {},
   "outputs": [
    {
     "name": "stdout",
     "output_type": "stream",
     "text": [
      "4\n"
     ]
    }
   ],
   "source": [
    "print(my_LL.head.value)"
   ]
  },
  {
   "cell_type": "code",
   "execution_count": 63,
   "id": "052621d4",
   "metadata": {},
   "outputs": [],
   "source": [
    "my_LL.append(7)"
   ]
  },
  {
   "cell_type": "code",
   "execution_count": 64,
   "id": "a47600b3",
   "metadata": {},
   "outputs": [
    {
     "name": "stdout",
     "output_type": "stream",
     "text": [
      "4\n",
      "7\n"
     ]
    }
   ],
   "source": [
    "my_LL.print_LL()"
   ]
  },
  {
   "cell_type": "code",
   "execution_count": 65,
   "id": "7915968a",
   "metadata": {},
   "outputs": [
    {
     "data": {
      "text/plain": [
       "7"
      ]
     },
     "execution_count": 65,
     "metadata": {},
     "output_type": "execute_result"
    }
   ],
   "source": [
    "my_LL.pop()"
   ]
  },
  {
   "cell_type": "code",
   "execution_count": 66,
   "id": "a95b44bb",
   "metadata": {},
   "outputs": [
    {
     "name": "stdout",
     "output_type": "stream",
     "text": [
      "4\n"
     ]
    }
   ],
   "source": [
    "my_LL.print_LL()"
   ]
  },
  {
   "cell_type": "code",
   "execution_count": 67,
   "id": "984dff0d",
   "metadata": {},
   "outputs": [],
   "source": [
    "my_LL.prepend(7)"
   ]
  },
  {
   "cell_type": "code",
   "execution_count": 68,
   "id": "02dbaab1",
   "metadata": {},
   "outputs": [
    {
     "name": "stdout",
     "output_type": "stream",
     "text": [
      "7\n",
      "4\n"
     ]
    }
   ],
   "source": [
    "my_LL.print_LL()"
   ]
  },
  {
   "cell_type": "code",
   "execution_count": 69,
   "id": "5dabf7c8",
   "metadata": {},
   "outputs": [
    {
     "data": {
      "text/plain": [
       "'poped value is :7'"
      ]
     },
     "execution_count": 69,
     "metadata": {},
     "output_type": "execute_result"
    }
   ],
   "source": [
    "my_LL.pop_first()"
   ]
  },
  {
   "cell_type": "code",
   "execution_count": 70,
   "id": "34fbbe5a",
   "metadata": {},
   "outputs": [
    {
     "name": "stdout",
     "output_type": "stream",
     "text": [
      "4\n"
     ]
    }
   ],
   "source": [
    "my_LL.print_LL()"
   ]
  },
  {
   "cell_type": "code",
   "execution_count": 71,
   "id": "42bf7b22",
   "metadata": {},
   "outputs": [
    {
     "data": {
      "text/plain": [
       "<__main__.Node at 0x1ff87c4b850>"
      ]
     },
     "execution_count": 71,
     "metadata": {},
     "output_type": "execute_result"
    }
   ],
   "source": [
    "my_LL.get(0)"
   ]
  },
  {
   "cell_type": "code",
   "execution_count": 72,
   "id": "713f5478",
   "metadata": {},
   "outputs": [],
   "source": [
    "my_LL.set(0,5)"
   ]
  },
  {
   "cell_type": "code",
   "execution_count": 73,
   "id": "a98c97bd",
   "metadata": {},
   "outputs": [
    {
     "name": "stdout",
     "output_type": "stream",
     "text": [
      "5\n"
     ]
    }
   ],
   "source": [
    "my_LL.print_LL()"
   ]
  },
  {
   "cell_type": "code",
   "execution_count": 74,
   "id": "ca6551b3",
   "metadata": {},
   "outputs": [],
   "source": [
    "my_LL.append(6)"
   ]
  },
  {
   "cell_type": "code",
   "execution_count": 75,
   "id": "b1935c18",
   "metadata": {},
   "outputs": [
    {
     "name": "stdout",
     "output_type": "stream",
     "text": [
      "5\n",
      "6\n",
      "7\n"
     ]
    }
   ],
   "source": [
    "my_LL.append(7)\n",
    "my_LL.print_LL()"
   ]
  },
  {
   "cell_type": "code",
   "execution_count": 76,
   "id": "fda7149e",
   "metadata": {},
   "outputs": [],
   "source": [
    "my_LL.insert(1,8)"
   ]
  },
  {
   "cell_type": "code",
   "execution_count": 77,
   "id": "dbcb46b5",
   "metadata": {},
   "outputs": [
    {
     "name": "stdout",
     "output_type": "stream",
     "text": [
      "5\n",
      "8\n",
      "6\n",
      "7\n"
     ]
    }
   ],
   "source": [
    "my_LL.print_LL()"
   ]
  },
  {
   "cell_type": "code",
   "execution_count": 78,
   "id": "b94aeec3",
   "metadata": {},
   "outputs": [
    {
     "name": "stdout",
     "output_type": "stream",
     "text": [
      "5\n",
      "6\n",
      "7\n"
     ]
    }
   ],
   "source": [
    "my_LL.remove(1)\n",
    "my_LL.print_LL()"
   ]
  },
  {
   "cell_type": "code",
   "execution_count": 79,
   "id": "0dfd2e16",
   "metadata": {},
   "outputs": [
    {
     "name": "stdout",
     "output_type": "stream",
     "text": [
      "7\n",
      "6\n",
      "5\n"
     ]
    }
   ],
   "source": [
    "my_LL.reverse()\n",
    "my_LL.print_LL()"
   ]
  },
  {
   "cell_type": "code",
   "execution_count": null,
   "id": "f5c0a3b5",
   "metadata": {},
   "outputs": [],
   "source": []
  }
 ],
 "metadata": {
  "kernelspec": {
   "display_name": "Python 3 (ipykernel)",
   "language": "python",
   "name": "python3"
  },
  "language_info": {
   "codemirror_mode": {
    "name": "ipython",
    "version": 3
   },
   "file_extension": ".py",
   "mimetype": "text/x-python",
   "name": "python",
   "nbconvert_exporter": "python",
   "pygments_lexer": "ipython3",
   "version": "3.11.3"
  }
 },
 "nbformat": 4,
 "nbformat_minor": 5
}
