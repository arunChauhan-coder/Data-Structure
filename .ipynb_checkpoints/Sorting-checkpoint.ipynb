{
 "cells": [
  {
   "cell_type": "code",
   "execution_count": 4,
   "id": "261750ea",
   "metadata": {},
   "outputs": [],
   "source": [
    "# Bubble Sort"
   ]
  },
  {
   "cell_type": "code",
   "execution_count": 20,
   "id": "93ac594c",
   "metadata": {},
   "outputs": [],
   "source": [
    "def bubble(lst):\n",
    "    for i in range(len(lst)-1,0,-1):\n",
    "        for j in range(i):\n",
    "            if lst[j]>lst[j+1]:\n",
    "                temp = lst[j]\n",
    "                lst[j]=lst[j+1]\n",
    "                lst[j+1] = temp\n",
    "    return lst\n",
    "        "
   ]
  },
  {
   "cell_type": "code",
   "execution_count": 21,
   "id": "bdcc7a45",
   "metadata": {},
   "outputs": [
    {
     "data": {
      "text/plain": [
       "[0, 1, 2, 3, 5]"
      ]
     },
     "execution_count": 21,
     "metadata": {},
     "output_type": "execute_result"
    }
   ],
   "source": [
    "bubble([3,2,0,5,1])"
   ]
  },
  {
   "cell_type": "code",
   "execution_count": null,
   "id": "c376b6eb",
   "metadata": {},
   "outputs": [],
   "source": [
    "# selection sort"
   ]
  },
  {
   "cell_type": "code",
   "execution_count": 9,
   "id": "3941189e",
   "metadata": {},
   "outputs": [],
   "source": [
    "def selection(lst):\n",
    "    for i in range(len(lst)-1):\n",
    "        min_index =i\n",
    "        for j in range(i+1,len(lst)):\n",
    "            if lst[j]<lst[min_index]:\n",
    "                min_index = j\n",
    "        if i!=  min_index:\n",
    "            temp = lst[min_index]\n",
    "            lst[min_index]=lst[i]\n",
    "            lst[i] = temp\n",
    "    return lst\n",
    "        \n",
    "        \n",
    "            "
   ]
  },
  {
   "cell_type": "code",
   "execution_count": 10,
   "id": "8efe1962",
   "metadata": {},
   "outputs": [
    {
     "data": {
      "text/plain": [
       "[0, 1, 2, 3, 5]"
      ]
     },
     "execution_count": 10,
     "metadata": {},
     "output_type": "execute_result"
    }
   ],
   "source": [
    "selection([3,2,0,5,1])"
   ]
  },
  {
   "cell_type": "code",
   "execution_count": null,
   "id": "9bb0d3a1",
   "metadata": {},
   "outputs": [],
   "source": []
  }
 ],
 "metadata": {
  "kernelspec": {
   "display_name": "Python 3 (ipykernel)",
   "language": "python",
   "name": "python3"
  },
  "language_info": {
   "codemirror_mode": {
    "name": "ipython",
    "version": 3
   },
   "file_extension": ".py",
   "mimetype": "text/x-python",
   "name": "python",
   "nbconvert_exporter": "python",
   "pygments_lexer": "ipython3",
   "version": "3.11.3"
  }
 },
 "nbformat": 4,
 "nbformat_minor": 5
}
