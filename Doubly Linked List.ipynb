{
 "cells": [
  {
   "cell_type": "code",
   "execution_count": 7,
   "id": "f202e292",
   "metadata": {},
   "outputs": [],
   "source": [
    "# create node\n",
    "\n",
    "class Node:\n",
    "    def __init__(self,value):\n",
    "        self.value = value\n",
    "        self.next = None\n",
    "        self.prev = None\n",
    "        "
   ]
  },
  {
   "cell_type": "code",
   "execution_count": 50,
   "id": "6d994ceb",
   "metadata": {},
   "outputs": [],
   "source": [
    "# create Doubly LL\n",
    "\n",
    "class DoublyLL:\n",
    "    def __init__(self,value):\n",
    "        new_node = Node(value)\n",
    "        self.head = new_node\n",
    "        self.tail = new_node\n",
    "        self.length = 1\n",
    "    def print_DLL(self):\n",
    "        temp = self.head\n",
    "        while temp!= None:\n",
    "            print(temp.value)\n",
    "            temp = temp.next\n",
    "    def append(self,value):\n",
    "        new_node = Node(value)\n",
    "        if self.head == None:\n",
    "            self.head = new_node\n",
    "            self.tail = new_node\n",
    "        else:\n",
    "            self.tail.next = new_node\n",
    "            new_node.prev = self.tail\n",
    "            self.tail = new_node\n",
    "        self.length+=1\n",
    "        return True\n",
    "    def pop(self):\n",
    "        if self.head == None:\n",
    "            return None\n",
    "        else:\n",
    "            val = self.tail.value\n",
    "            self.tail = self.tail.prev\n",
    "            self.tail.next = None\n",
    "            self.length-=1\n",
    "            if self.length == 0:\n",
    "                self.head = None\n",
    "                self.tail = None\n",
    "            \n",
    "        \n",
    "            return val\n",
    "    def prepend(self,value):\n",
    "        new_node = Node(value)\n",
    "        if self.head = None:\n",
    "            self.head = new_node\n",
    "            self.tail = new_node\n",
    "        else:\n",
    "            new_node.next = self.head\n",
    "            self.head.prev = new_node\n",
    "            self.head = new_node\n",
    "        self.length +=1\n",
    "        return True\n",
    "            \n",
    "            \n",
    "            \n",
    "        \n",
    "    "
   ]
  },
  {
   "cell_type": "code",
   "execution_count": 51,
   "id": "5589f075",
   "metadata": {},
   "outputs": [],
   "source": [
    "myDll = DoublyLL(7)"
   ]
  },
  {
   "cell_type": "code",
   "execution_count": 52,
   "id": "911ba63c",
   "metadata": {},
   "outputs": [
    {
     "name": "stdout",
     "output_type": "stream",
     "text": [
      "7\n"
     ]
    }
   ],
   "source": [
    "myDll.print_DLL()"
   ]
  },
  {
   "cell_type": "code",
   "execution_count": 53,
   "id": "106edd47",
   "metadata": {},
   "outputs": [
    {
     "data": {
      "text/plain": [
       "True"
      ]
     },
     "execution_count": 53,
     "metadata": {},
     "output_type": "execute_result"
    }
   ],
   "source": [
    "myDll.append(10)"
   ]
  },
  {
   "cell_type": "code",
   "execution_count": 54,
   "id": "55092cea",
   "metadata": {},
   "outputs": [
    {
     "name": "stdout",
     "output_type": "stream",
     "text": [
      "7\n",
      "10\n"
     ]
    }
   ],
   "source": [
    "myDll.print_DLL()"
   ]
  },
  {
   "cell_type": "code",
   "execution_count": 55,
   "id": "c31ae612",
   "metadata": {},
   "outputs": [
    {
     "data": {
      "text/plain": [
       "10"
      ]
     },
     "execution_count": 55,
     "metadata": {},
     "output_type": "execute_result"
    }
   ],
   "source": [
    "myDll.pop()"
   ]
  },
  {
   "cell_type": "code",
   "execution_count": 56,
   "id": "456a24c2",
   "metadata": {},
   "outputs": [
    {
     "name": "stdout",
     "output_type": "stream",
     "text": [
      "7\n"
     ]
    }
   ],
   "source": [
    "myDll.print_DLL()"
   ]
  },
  {
   "cell_type": "code",
   "execution_count": null,
   "id": "8daeba6b",
   "metadata": {},
   "outputs": [],
   "source": []
  }
 ],
 "metadata": {
  "kernelspec": {
   "display_name": "Python 3 (ipykernel)",
   "language": "python",
   "name": "python3"
  },
  "language_info": {
   "codemirror_mode": {
    "name": "ipython",
    "version": 3
   },
   "file_extension": ".py",
   "mimetype": "text/x-python",
   "name": "python",
   "nbconvert_exporter": "python",
   "pygments_lexer": "ipython3",
   "version": "3.11.3"
  }
 },
 "nbformat": 4,
 "nbformat_minor": 5
}
